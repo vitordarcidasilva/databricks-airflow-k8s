{
 "cells": [
  {
   "cell_type": "code",
   "execution_count": 0,
   "metadata": {
    "application/vnd.databricks.v1+cell": {
     "cellMetadata": {
      "byteLimit": 2048000,
      "rowLimit": 10000
     },
     "inputWidgets": {},
     "nuid": "cf8e0442-e0fc-4168-a07e-69e9453a0d52",
     "showTitle": false,
     "tableResultSettingsMap": {},
     "title": ""
    }
   },
   "outputs": [],
   "source": [
    "stg_posts_df = spark.table(\"default.stg_posts\")\n"
   ]
  },
  {
   "cell_type": "code",
   "execution_count": 0,
   "metadata": {
    "application/vnd.databricks.v1+cell": {
     "cellMetadata": {
      "byteLimit": 2048000,
      "rowLimit": 10000
     },
     "inputWidgets": {},
     "nuid": "7a4becdd-95b5-44da-bf01-58f3e86d8d8b",
     "showTitle": false,
     "tableResultSettingsMap": {},
     "title": ""
    }
   },
   "outputs": [],
   "source": [
    "from pyspark.sql import DataFrame\n",
    "import pyspark.sql.functions as F\n",
    "\n",
    "def posts_top_tags(stg_posts_df: DataFrame) -> DataFrame:\n",
    "    return (\n",
    "        stg_posts_df\n",
    "        .withColumn(\"tag_exploded\", F.explode(\"TagsArray\"))\n",
    "        .groupBy(\"tag_exploded\").agg(F.approx_count_distinct(\"PostId\").alias(\"tags_count\"))\n",
    "        .orderBy(F.col(\"tags_count\").desc())\n",
    "    )\n",
    "\n",
    "marts_top_tags_df = posts_top_tags(stg_posts_df)\n",
    "marts_top_tags_df.write.mode(\"overwrite\").saveAsTable(\"marts_top_tags\")"
   ]
  },
  {
   "cell_type": "code",
   "execution_count": 0,
   "metadata": {
    "application/vnd.databricks.v1+cell": {
     "cellMetadata": {
      "byteLimit": 2048000,
      "rowLimit": 10000
     },
     "inputWidgets": {},
     "nuid": "ea197610-9aeb-49a0-a9ca-f4ee279a9bea",
     "showTitle": false,
     "tableResultSettingsMap": {},
     "title": ""
    }
   },
   "outputs": [],
   "source": [
    "display(spark.table(\"marts_top_tags\").limit(5))\n"
   ]
  }
 ],
 "metadata": {
  "application/vnd.databricks.v1+notebook": {
   "computePreferences": null,
   "dashboards": [],
   "environmentMetadata": {
    "base_environment": "",
    "environment_version": "3"
   },
   "inputWidgetPreferences": null,
   "language": "python",
   "notebookMetadata": {
    "pythonIndentUnit": 4
   },
   "notebookName": "gold_most_popular_tags",
   "widgets": {}
  },
  "language_info": {
   "name": "python"
  }
 },
 "nbformat": 4,
 "nbformat_minor": 0
}
