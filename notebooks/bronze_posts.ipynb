{
 "cells": [
  {
   "cell_type": "code",
   "execution_count": 0,
   "metadata": {
    "application/vnd.databricks.v1+cell": {
     "cellMetadata": {
      "byteLimit": 2048000,
      "rowLimit": 10000
     },
     "inputWidgets": {},
     "nuid": "85ea9598-82e2-40e2-8cd8-e6cf0b28e363",
     "showTitle": false,
     "tableResultSettingsMap": {},
     "title": ""
    }
   },
   "outputs": [],
   "source": [
    "df = (\n",
    "    spark.read.format(\"xml\")\n",
    "    .option(\"rootTag\", \"posts\")\n",
    "    .option(\"rowTag\", \"row\")\n",
    "    .option(\"inferSchema\", \"true\")\n",
    "    .load(\"/Volumes/my_workspace/default/my_volume/Posts.xml\")\n",
    ")\n",
    "\n",
    "display(df.limit(10))"
   ]
  },
  {
   "cell_type": "code",
   "execution_count": 0,
   "metadata": {
    "application/vnd.databricks.v1+cell": {
     "cellMetadata": {
      "byteLimit": 2048000,
      "rowLimit": 10000
     },
     "inputWidgets": {},
     "nuid": "c6263eb1-6549-460f-88ff-b708460d6589",
     "showTitle": false,
     "tableResultSettingsMap": {},
     "title": ""
    }
   },
   "outputs": [],
   "source": [
    "df.printSchema()"
   ]
  },
  {
   "cell_type": "code",
   "execution_count": 0,
   "metadata": {
    "application/vnd.databricks.v1+cell": {
     "cellMetadata": {
      "byteLimit": 2048000,
      "rowLimit": 10000
     },
     "inputWidgets": {},
     "nuid": "b8c4f2f3-1c58-4eec-af39-3be375c83df6",
     "showTitle": false,
     "tableResultSettingsMap": {},
     "title": ""
    }
   },
   "outputs": [],
   "source": [
    "from pyspark.sql.types import StructType, StructField, LongType, StringType, TimestampType\n",
    "\n",
    "schema = StructType([\n",
    "    StructField(\"_AcceptedAnswerId\", LongType(), True),\n",
    "    StructField(\"_AnswerCount\", LongType(), True),\n",
    "    StructField(\"_Body\", StringType(), True),\n",
    "    StructField(\"_ClosedDate\", TimestampType(), True),\n",
    "    StructField(\"_CommentCount\", LongType(), True),\n",
    "    StructField(\"_CommunityOwnedDate\", TimestampType(), True),\n",
    "    StructField(\"_ContentLicense\", StringType(), True),\n",
    "    StructField(\"_CreationDate\", TimestampType(), True),\n",
    "    StructField(\"_FavoriteCount\", LongType(), True),\n",
    "    StructField(\"_Id\", LongType(), True),\n",
    "    StructField(\"_LastActivityDate\", TimestampType(), True),\n",
    "    StructField(\"_LastEditDate\", TimestampType(), True),\n",
    "    StructField(\"_LastEditorDisplayName\", StringType(), True),\n",
    "    StructField(\"_LastEditorUserId\", LongType(), True),\n",
    "    StructField(\"_OwnerDisplayName\", StringType(), True),\n",
    "    StructField(\"_OwnerUserId\", LongType(), True),\n",
    "    StructField(\"_ParentId\", LongType(), True),\n",
    "    StructField(\"_PostTypeId\", LongType(), True),\n",
    "    StructField(\"_Score\", LongType(), True),\n",
    "    StructField(\"_Tags\", StringType(), True),\n",
    "    StructField(\"_Title\", StringType(), True),\n",
    "    StructField(\"_ViewCount\", LongType(), True)\n",
    "])"
   ]
  },
  {
   "cell_type": "code",
   "execution_count": 0,
   "metadata": {
    "application/vnd.databricks.v1+cell": {
     "cellMetadata": {
      "byteLimit": 2048000,
      "rowLimit": 10000
     },
     "inputWidgets": {},
     "nuid": "f98c8af8-9097-4cf4-ae69-581afd6fcc06",
     "showTitle": false,
     "tableResultSettingsMap": {},
     "title": ""
    }
   },
   "outputs": [],
   "source": [
    "df = (\n",
    "    spark.read.format(\"xml\")\n",
    "    .option(\"rootTag\", \"posts\")\n",
    "    .option(\"rowTag\", \"row\")\n",
    "    .schema(schema)\n",
    "    .load(\"/Volumes/my_workspace/default/my_volume/Posts.xml\")\n",
    ")\n",
    "\n",
    "display(df.limit(10))"
   ]
  },
  {
   "cell_type": "code",
   "execution_count": 0,
   "metadata": {
    "application/vnd.databricks.v1+cell": {
     "cellMetadata": {
      "byteLimit": 2048000,
      "rowLimit": 10000
     },
     "inputWidgets": {},
     "nuid": "335022d4-8339-4efe-9449-6649bb23f742",
     "showTitle": false,
     "tableResultSettingsMap": {
      "0": {
       "dataGridStateBlob": "{\"version\":1,\"tableState\":{\"columnPinning\":{\"left\":[\"#row_number#\"],\"right\":[]},\"columnSizing\":{},\"columnVisibility\":{}},\"settings\":{\"columns\":{}},\"syncTimestamp\":1759540646929}",
       "filterBlob": null,
       "queryPlanFiltersBlob": null,
       "tableResultIndex": 0
      }
     },
     "title": ""
    }
   },
   "outputs": [],
   "source": [
    "new_columns_names = [col[1:] for col in df.columns]\n",
    "df = df.toDF(*new_columns_names)\n",
    "\n",
    "display(df.limit(10))\n",
    "\n"
   ]
  },
  {
   "cell_type": "code",
   "execution_count": 0,
   "metadata": {
    "application/vnd.databricks.v1+cell": {
     "cellMetadata": {
      "byteLimit": 2048000,
      "rowLimit": 10000
     },
     "inputWidgets": {},
     "nuid": "98a13748-a061-44f1-8736-06f68be9fada",
     "showTitle": false,
     "tableResultSettingsMap": {},
     "title": ""
    }
   },
   "outputs": [],
   "source": [
    "df.write.format(\"delta\").mode(\"overwrite\").option(\"overwriteSchema\", True).saveAsTable(\"raw_posts\")"
   ]
  }
 ],
 "metadata": {
  "application/vnd.databricks.v1+notebook": {
   "computePreferences": null,
   "dashboards": [],
   "environmentMetadata": {
    "base_environment": "",
    "environment_version": "3"
   },
   "inputWidgetPreferences": null,
   "language": "python",
   "notebookMetadata": {
    "pythonIndentUnit": 4
   },
   "notebookName": "bronze_posts",
   "widgets": {}
  },
  "language_info": {
   "name": "python"
  }
 },
 "nbformat": 4,
 "nbformat_minor": 0
}
