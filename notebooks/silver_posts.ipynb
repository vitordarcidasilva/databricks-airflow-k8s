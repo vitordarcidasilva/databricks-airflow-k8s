{
 "cells": [
  {
   "cell_type": "code",
   "execution_count": 0,
   "metadata": {
    "application/vnd.databricks.v1+cell": {
     "cellMetadata": {
      "byteLimit": 2048000,
      "rowLimit": 10000
     },
     "inputWidgets": {},
     "nuid": "1d751074-d809-44d6-98a0-c90e9abf49d4",
     "showTitle": false,
     "tableResultSettingsMap": {},
     "title": ""
    }
   },
   "outputs": [],
   "source": [
    "raw_posts_df = spark.table(\"default.raw_posts\")"
   ]
  },
  {
   "cell_type": "code",
   "execution_count": 0,
   "metadata": {
    "application/vnd.databricks.v1+cell": {
     "cellMetadata": {
      "byteLimit": 2048000,
      "rowLimit": 10000
     },
     "inputWidgets": {},
     "nuid": "512c0e72-5372-467f-b0bb-f7a4421593bd",
     "showTitle": false,
     "tableResultSettingsMap": {},
     "title": ""
    }
   },
   "outputs": [],
   "source": [
    "display(raw_posts_df.limit(10))"
   ]
  },
  {
   "cell_type": "code",
   "execution_count": 0,
   "metadata": {
    "application/vnd.databricks.v1+cell": {
     "cellMetadata": {
      "byteLimit": 2048000,
      "rowLimit": 10000
     },
     "inputWidgets": {},
     "nuid": "dd783f2d-2687-4209-a02a-4043fd87ba52",
     "showTitle": false,
     "tableResultSettingsMap": {},
     "title": ""
    }
   },
   "outputs": [],
   "source": [
    "import pyspark.sql.functions as F\n",
    "from pyspark.sql.types import StructType, StructField, MapType, IntegerType, StringType\n",
    "from pyspark.sql import DataFrame\n",
    "\n",
    "def split_tag_into_array(df: DataFrame) -> DataFrame:\n",
    "    return (\n",
    "        df\n",
    "        .withColumn(\"TagsArray\", F.filter(F.split(F.col(\"tags\"), r'\\|'), lambda x: x != \"\"))\n",
    "        .drop(\"Tags\")\n",
    "    )\n",
    "\n",
    "def rename_columns(df: DataFrame) -> DataFrame:\n",
    "    return (\n",
    "        df.withColumnRenamed(\"Id\", \"PostId\")\n",
    "    )\n",
    "\n",
    "def map_post_type(df: DataFrame) -> DataFrame:\n",
    "    map_data = [\n",
    "        (1, \"Question\"),\n",
    "        (2, \"Answer\"),\n",
    "        (3, \"Orphaned tag wiki\"),\n",
    "        (4, \"Tag wiki excerpt\"),\n",
    "        (5, \"Tag wiki\"),\n",
    "        (6, \"Moderator nomination\"),\n",
    "        (7, \"Wiki placeholder\"),\n",
    "        (8, \"Privilege wiki\"),\n",
    "        (9, \"Article\"),\n",
    "        (10, \"HelpArticle\"),\n",
    "        (12, \"Collection\"),\n",
    "        (13, \"ModeratorQuestionnaireResponse\"),\n",
    "        (14, \"Announcement\"),\n",
    "        (15, \"CollectiveDiscussion\"),\n",
    "        (17, \"CollectiveCollection\")\n",
    "    ]\n",
    "\n",
    "    map_schema = StructType([\n",
    "        StructField(\"PostTypeId\", IntegerType(), False),\n",
    "        StructField(\"PostType\", StringType(), False)\n",
    "    ])\n",
    "\n",
    "    map_df = spark.createDataFrame(map_data, schema=map_schema)\n",
    "\n",
    "    return df.join(\n",
    "        F.broadcast(map_df),\n",
    "        df[\"PostTypeId\"] == map_df[\"PostTypeId\"],\n",
    "        \"left\"\n",
    "    ).drop(map_df[\"PostTypeId\"])\n",
    "\n",
    "stg_posts_df = (\n",
    "    raw_posts_df\n",
    "    .transform(split_tag_into_array)\n",
    "    .transform(rename_columns)\n",
    "    .transform(map_post_type)\n",
    ")"
   ]
  },
  {
   "cell_type": "code",
   "execution_count": 0,
   "metadata": {
    "application/vnd.databricks.v1+cell": {
     "cellMetadata": {
      "byteLimit": 2048000,
      "rowLimit": 10000
     },
     "inputWidgets": {},
     "nuid": "e018eda6-f5a6-4c0a-b921-2c1405421714",
     "showTitle": false,
     "tableResultSettingsMap": {},
     "title": ""
    }
   },
   "outputs": [],
   "source": [
    "display(stg_posts_df)"
   ]
  },
  {
   "cell_type": "code",
   "execution_count": 0,
   "metadata": {
    "application/vnd.databricks.v1+cell": {
     "cellMetadata": {
      "byteLimit": 2048000,
      "rowLimit": 10000
     },
     "inputWidgets": {},
     "nuid": "b6704d89-0269-4de8-ac1b-b8d98730c750",
     "showTitle": false,
     "tableResultSettingsMap": {},
     "title": ""
    }
   },
   "outputs": [],
   "source": [
    "stg_posts_df.explain()"
   ]
  },
  {
   "cell_type": "code",
   "execution_count": 0,
   "metadata": {
    "application/vnd.databricks.v1+cell": {
     "cellMetadata": {
      "byteLimit": 2048000,
      "rowLimit": 10000
     },
     "inputWidgets": {},
     "nuid": "819b4e37-8f6a-437a-a588-cafa5ee36ef8",
     "showTitle": false,
     "tableResultSettingsMap": {},
     "title": ""
    }
   },
   "outputs": [],
   "source": [
    "from delta.tables import DeltaTable\n",
    "import pyspark.sql.functions as F\n",
    "\n",
    "def incremental_upsert(dest_table: str, df: DataFrame, unique_key: str, updated_at: str, full_refresh=False):\n",
    "    \"\"\"\n",
    "    Performs incremental upsert using updated_at as the cursor value with unique_key\n",
    "    Doesn't support deletes, very minimal\n",
    "    \"\"\"\n",
    "    if not spark.catalog.tableExists(dest_table) or full_refresh:\n",
    "        (\n",
    "            df\n",
    "            .write\n",
    "            .format(\"delta\")\n",
    "            .mode(\"overwrite\")\n",
    "            .option(\"overwriteSchema\", \"true\")\n",
    "            .saveAsTable(dest_table)\n",
    "        )\n",
    "    else:\n",
    "        last_max = (\n",
    "            spark.table(dest_table)\n",
    "                .agg(F.max(updated_at).alias(\"max_ts\"))\n",
    "                .collect()[0][\"max_ts\"]\n",
    "        )\n",
    "\n",
    "        incr_df = df.filter(F.col(updated_at) > last_max)\n",
    "\n",
    "        if incr_df.head(1) is not None:\n",
    "            delta_table = DeltaTable.forName(spark, dest_table)\n",
    "            (\n",
    "                delta_table.alias(\"t\")\n",
    "                    .merge(\n",
    "                        source=incr_df.alias(\"s\"),\n",
    "                        condition=f\"s.{unique_key} = t.{unique_key}\"\n",
    "                    )\n",
    "                    .whenMatchedUpdateAll()\n",
    "                    .whenNotMatchedInsertAll()\n",
    "                    .execute()\n",
    "            )\n",
    "\n",
    "dest_table = \"default.stg_posts\"\n",
    "incremental_upsert(dest_table, stg_posts_df, \"PostId\", \"CreationDate\")\n",
    "     "
   ]
  },
  {
   "cell_type": "code",
   "execution_count": 0,
   "metadata": {
    "application/vnd.databricks.v1+cell": {
     "cellMetadata": {
      "byteLimit": 2048000,
      "rowLimit": 10000
     },
     "inputWidgets": {},
     "nuid": "048d2bd4-bded-48e4-bca5-4c1df82cea32",
     "showTitle": false,
     "tableResultSettingsMap": {},
     "title": ""
    }
   },
   "outputs": [],
   "source": [
    "spark.table(dest_table).rdd.getNumPartitions()"
   ]
  },
  {
   "cell_type": "code",
   "execution_count": 0,
   "metadata": {
    "application/vnd.databricks.v1+cell": {
     "cellMetadata": {
      "byteLimit": 2048000,
      "rowLimit": 10000
     },
     "inputWidgets": {},
     "nuid": "f3d0f60a-d96a-41e4-b3b2-80f9570df9a0",
     "showTitle": false,
     "tableResultSettingsMap": {},
     "title": ""
    }
   },
   "outputs": [],
   "source": [
    "incremental_upsert(dest_table, stg_posts_df.repartition(4), \"PostId\", \"CreationDate\", full_refresh=True)\n"
   ]
  },
  {
   "cell_type": "code",
   "execution_count": 0,
   "metadata": {
    "application/vnd.databricks.v1+cell": {
     "cellMetadata": {
      "byteLimit": 2048000,
      "rowLimit": 10000
     },
     "inputWidgets": {},
     "nuid": "d967e392-54a4-4245-8277-792bfbe4a921",
     "showTitle": false,
     "tableResultSettingsMap": {},
     "title": ""
    }
   },
   "outputs": [],
   "source": [
    "spark.conf.set(\"spark.sql.shuffle.partitions\", 4)\n"
   ]
  },
  {
   "cell_type": "code",
   "execution_count": 0,
   "metadata": {
    "application/vnd.databricks.v1+cell": {
     "cellMetadata": {
      "byteLimit": 2048000,
      "rowLimit": 10000
     },
     "inputWidgets": {},
     "nuid": "2fab6597-053e-403f-8b8c-9f722702de39",
     "showTitle": false,
     "tableResultSettingsMap": {},
     "title": ""
    }
   },
   "outputs": [],
   "source": [
    "spark.table(dest_table).rdd.getNumPartitions()\n"
   ]
  },
  {
   "cell_type": "code",
   "execution_count": 0,
   "metadata": {
    "application/vnd.databricks.v1+cell": {
     "cellMetadata": {
      "byteLimit": 2048000,
      "rowLimit": 10000
     },
     "inputWidgets": {},
     "nuid": "f36cc007-f74f-48eb-baf9-3469374fb4c8",
     "showTitle": false,
     "tableResultSettingsMap": {},
     "title": ""
    }
   },
   "outputs": [],
   "source": [
    "display(spark.table(dest_table).limit(5))\n"
   ]
  }
 ],
 "metadata": {
  "application/vnd.databricks.v1+notebook": {
   "computePreferences": null,
   "dashboards": [],
   "environmentMetadata": {
    "base_environment": "",
    "environment_version": "3"
   },
   "inputWidgetPreferences": null,
   "language": "python",
   "notebookMetadata": {
    "pythonIndentUnit": 4
   },
   "notebookName": "silver_posts",
   "widgets": {}
  },
  "language_info": {
   "name": "python"
  }
 },
 "nbformat": 4,
 "nbformat_minor": 0
}
