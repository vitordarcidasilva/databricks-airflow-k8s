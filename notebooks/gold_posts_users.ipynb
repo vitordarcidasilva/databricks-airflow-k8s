{
 "cells": [
  {
   "cell_type": "code",
   "execution_count": 0,
   "metadata": {
    "application/vnd.databricks.v1+cell": {
     "cellMetadata": {
      "byteLimit": 2048000,
      "rowLimit": 10000
     },
     "inputWidgets": {},
     "nuid": "33ee0d73-2caf-4ea3-a74a-165e684d1cb4",
     "showTitle": false,
     "tableResultSettingsMap": {},
     "title": ""
    }
   },
   "outputs": [],
   "source": [
    "stg_posts_df = spark.table(\"default.stg_posts\")\n",
    "raw_users_df = spark.table(\"default.raw_users\")\n",
    "     "
   ]
  },
  {
   "cell_type": "code",
   "execution_count": 0,
   "metadata": {
    "application/vnd.databricks.v1+cell": {
     "cellMetadata": {
      "byteLimit": 2048000,
      "rowLimit": 10000
     },
     "inputWidgets": {},
     "nuid": "5ef19ea8-e91b-43ee-862d-11ec7653e9eb",
     "showTitle": false,
     "tableResultSettingsMap": {},
     "title": ""
    }
   },
   "outputs": [],
   "source": [
    "\n",
    "from pyspark.sql import DataFrame\n",
    "import pyspark.sql.functions as F\n",
    "\n",
    "def posts_users_OBT(stg_posts_df: DataFrame, raw_users_df: DataFrame) -> DataFrame:\n",
    "    return (\n",
    "        stg_posts_df\n",
    "        .alias(\"posts\")\n",
    "        .withColumnRenamed(\"CreationDate\", \"PostCreationDate\")\n",
    "        .join(\n",
    "            other=raw_users_df\n",
    "                .withColumnRenamed(\"CreationDate\", \"UserCreationDate\")\n",
    "                .alias(\"users\"),\n",
    "            on=F.col(\"posts.OwnerUserId\") == F.col(\"users.Id\"),\n",
    "            how=\"left\"\n",
    "        )\n",
    "    )\n",
    "\n",
    "marts_posts_user_df = posts_users_OBT(stg_posts_df, raw_users_df)"
   ]
  },
  {
   "cell_type": "code",
   "execution_count": 0,
   "metadata": {
    "application/vnd.databricks.v1+cell": {
     "cellMetadata": {
      "byteLimit": 2048000,
      "rowLimit": 10000
     },
     "inputWidgets": {},
     "nuid": "563b1a3f-192f-41c2-a694-405c6a9ef2f7",
     "showTitle": false,
     "tableResultSettingsMap": {},
     "title": ""
    }
   },
   "outputs": [],
   "source": [
    "marts_posts_user_df.write.mode(\"overwrite\").saveAsTable(\"marts_posts_users\")\n"
   ]
  },
  {
   "cell_type": "code",
   "execution_count": 0,
   "metadata": {
    "application/vnd.databricks.v1+cell": {
     "cellMetadata": {
      "byteLimit": 2048000,
      "rowLimit": 10000
     },
     "inputWidgets": {},
     "nuid": "9477d75e-7e97-4665-a322-4981615c4e8d",
     "showTitle": false,
     "tableResultSettingsMap": {},
     "title": ""
    }
   },
   "outputs": [],
   "source": [
    "display(spark.table(\"default.marts_posts_users\").limit(3))\n"
   ]
  }
 ],
 "metadata": {
  "application/vnd.databricks.v1+notebook": {
   "computePreferences": null,
   "dashboards": [],
   "environmentMetadata": {
    "base_environment": "",
    "environment_version": "3"
   },
   "inputWidgetPreferences": null,
   "language": "python",
   "notebookMetadata": {
    "pythonIndentUnit": 4
   },
   "notebookName": "gold_posts_users",
   "widgets": {}
  },
  "language_info": {
   "name": "python"
  }
 },
 "nbformat": 4,
 "nbformat_minor": 0
}
